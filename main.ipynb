{
 "cells": [
  {
   "cell_type": "code",
   "execution_count": 2,
   "id": "e744eba4",
   "metadata": {},
   "outputs": [],
   "source": [
    "import os\n",
    "import cv2\n",
    "import numpy as np\n",
    "from sklearn.model_selection import train_test_split\n",
    "from tensorflow.keras.applications import VGG19\n",
    "from tensorflow.keras.models import Model\n",
    "from tensorflow.keras.layers import Dense, Flatten, Dropout\n",
    "from tensorflow.keras.optimizers import Adam\n",
    "from tensorflow.keras.preprocessing.image import ImageDataGenerator\n",
    "from tensorflow.keras.utils import to_categorical"
   ]
  },
  {
   "cell_type": "code",
   "execution_count": 3,
   "id": "3e8f616a",
   "metadata": {},
   "outputs": [],
   "source": [
    "# Directory containing soil image datasets categorized into folders\n",
    "DATA_DIR = 'soils'"
   ]
  },
  {
   "cell_type": "code",
   "execution_count": 4,
   "id": "a75a3b55",
   "metadata": {},
   "outputs": [],
   "source": [
    "# Image size for VGG19\n",
    "IMG_SIZE = 224"
   ]
  },
  {
   "cell_type": "code",
   "execution_count": 5,
   "id": "6ff2e823",
   "metadata": {},
   "outputs": [],
   "source": [
    "# Function to apply Gabor filters\n",
    "def apply_gabor_filter(img):\n",
    "    gabor_kernels = []\n",
    "    ksize = 31  # kernel size\n",
    "    for theta in [0, np.pi/4, np.pi/2, 3*np.pi/4]:  # 4 orientations\n",
    "        kernel = cv2.getGaborKernel((ksize, ksize), 4.0, theta, 10.0, 0.5, 0, ktype=cv2.CV_32F)\n",
    "        gabor_kernels.append(kernel)\n",
    "    \n",
    "    filtered_imgs = [cv2.filter2D(img, cv2.CV_8UC3, k) for k in gabor_kernels]\n",
    "    return np.mean(filtered_imgs, axis=0).astype(np.uint8)"
   ]
  },
  {
   "cell_type": "code",
   "execution_count": 6,
   "id": "b79e6e5b",
   "metadata": {},
   "outputs": [],
   "source": [
    "# Load and preprocess dataset\n",
    "def load_data():\n",
    "    X, y = [], []\n",
    "    class_names = os.listdir(DATA_DIR)\n",
    "    for idx, label in enumerate(class_names):\n",
    "        label_dir = os.path.join(DATA_DIR, label)\n",
    "        for file in os.listdir(label_dir):\n",
    "            path = os.path.join(label_dir, file)\n",
    "            img = cv2.imread(path)\n",
    "            if img is not None:\n",
    "                img = cv2.resize(img, (IMG_SIZE, IMG_SIZE))\n",
    "                img = apply_gabor_filter(img)\n",
    "                X.append(img)\n",
    "                y.append(idx)\n",
    "    return np.array(X), to_categorical(y), class_names"
   ]
  },
  {
   "cell_type": "code",
   "execution_count": 7,
   "id": "3017c4e9",
   "metadata": {},
   "outputs": [],
   "source": [
    "# Load dataset\n",
    "X, y, class_names = load_data()\n",
    "X = X / 255.0  # Normalize\n",
    "X_train, X_test, y_train, y_test = train_test_split(X, y, test_size=0.3, random_state=42)"
   ]
  },
  {
   "cell_type": "code",
   "execution_count": 8,
   "id": "ec858c4d",
   "metadata": {},
   "outputs": [],
   "source": [
    "# Load VGG19 model without top layer\n",
    "base_model = VGG19(weights='imagenet', include_top=False, input_shape=(IMG_SIZE, IMG_SIZE, 3))\n",
    "for layer in base_model.layers:\n",
    "    layer.trainable = False"
   ]
  },
  {
   "cell_type": "code",
   "execution_count": 9,
   "id": "dbc58cce",
   "metadata": {},
   "outputs": [],
   "source": [
    "# Add custom top layers\n",
    "x = Flatten()(base_model.output)\n",
    "x = Dense(128, activation='relu')(x)\n",
    "x = Dropout(0.5)(x)\n",
    "output = Dense(len(class_names), activation='softmax')(x)\n",
    "model = Model(inputs=base_model.input, outputs=output)"
   ]
  },
  {
   "cell_type": "code",
   "execution_count": 10,
   "id": "7d4bdf16",
   "metadata": {},
   "outputs": [],
   "source": [
    "# Compile model\n",
    "model.compile(optimizer=Adam(learning_rate=0.0001), loss='categorical_crossentropy', metrics=['accuracy'])"
   ]
  },
  {
   "cell_type": "code",
   "execution_count": 11,
   "id": "03bd9238",
   "metadata": {},
   "outputs": [
    {
     "name": "stdout",
     "output_type": "stream",
     "text": [
      "Epoch 1/10\n",
      "\u001b[1m15/15\u001b[0m \u001b[32m━━━━━━━━━━━━━━━━━━━━\u001b[0m\u001b[37m\u001b[0m \u001b[1m175s\u001b[0m 11s/step - accuracy: 0.2817 - loss: 1.7487 - val_accuracy: 0.5962 - val_loss: 1.0713\n",
      "Epoch 2/10\n",
      "\u001b[1m15/15\u001b[0m \u001b[32m━━━━━━━━━━━━━━━━━━━━\u001b[0m\u001b[37m\u001b[0m \u001b[1m221s\u001b[0m 14s/step - accuracy: 0.5932 - loss: 1.0548 - val_accuracy: 0.7308 - val_loss: 0.8212\n",
      "Epoch 3/10\n",
      "\u001b[1m15/15\u001b[0m \u001b[32m━━━━━━━━━━━━━━━━━━━━\u001b[0m\u001b[37m\u001b[0m \u001b[1m98s\u001b[0m 6s/step - accuracy: 0.7011 - loss: 0.8158 - val_accuracy: 0.8462 - val_loss: 0.6483\n",
      "Epoch 4/10\n",
      "\u001b[1m15/15\u001b[0m \u001b[32m━━━━━━━━━━━━━━━━━━━━\u001b[0m\u001b[37m\u001b[0m \u001b[1m224s\u001b[0m 15s/step - accuracy: 0.8207 - loss: 0.6071 - val_accuracy: 0.8654 - val_loss: 0.4648\n",
      "Epoch 5/10\n",
      "\u001b[1m15/15\u001b[0m \u001b[32m━━━━━━━━━━━━━━━━━━━━\u001b[0m\u001b[37m\u001b[0m \u001b[1m141s\u001b[0m 9s/step - accuracy: 0.8625 - loss: 0.5094 - val_accuracy: 0.9808 - val_loss: 0.3637\n",
      "Epoch 6/10\n",
      "\u001b[1m15/15\u001b[0m \u001b[32m━━━━━━━━━━━━━━━━━━━━\u001b[0m\u001b[37m\u001b[0m \u001b[1m165s\u001b[0m 11s/step - accuracy: 0.8960 - loss: 0.3703 - val_accuracy: 0.9615 - val_loss: 0.2900\n",
      "Epoch 7/10\n",
      "\u001b[1m15/15\u001b[0m \u001b[32m━━━━━━━━━━━━━━━━━━━━\u001b[0m\u001b[37m\u001b[0m \u001b[1m113s\u001b[0m 7s/step - accuracy: 0.9459 - loss: 0.3250 - val_accuracy: 1.0000 - val_loss: 0.2389\n",
      "Epoch 8/10\n",
      "\u001b[1m15/15\u001b[0m \u001b[32m━━━━━━━━━━━━━━━━━━━━\u001b[0m\u001b[37m\u001b[0m \u001b[1m108s\u001b[0m 7s/step - accuracy: 0.9451 - loss: 0.2955 - val_accuracy: 1.0000 - val_loss: 0.1849\n",
      "Epoch 9/10\n",
      "\u001b[1m15/15\u001b[0m \u001b[32m━━━━━━━━━━━━━━━━━━━━\u001b[0m\u001b[37m\u001b[0m \u001b[1m105s\u001b[0m 7s/step - accuracy: 0.9527 - loss: 0.2387 - val_accuracy: 1.0000 - val_loss: 0.1530\n",
      "Epoch 10/10\n",
      "\u001b[1m15/15\u001b[0m \u001b[32m━━━━━━━━━━━━━━━━━━━━\u001b[0m\u001b[37m\u001b[0m \u001b[1m108s\u001b[0m 7s/step - accuracy: 0.9500 - loss: 0.2348 - val_accuracy: 1.0000 - val_loss: 0.1286\n"
     ]
    },
    {
     "data": {
      "text/plain": [
       "<keras.src.callbacks.history.History at 0x2959b6c14f0>"
      ]
     },
     "execution_count": 11,
     "metadata": {},
     "output_type": "execute_result"
    }
   ],
   "source": [
    "# Train model\n",
    "model.fit(X_train, y_train, epochs=10, batch_size=32, validation_split=0.1)"
   ]
  },
  {
   "cell_type": "code",
   "execution_count": 13,
   "id": "a75a3581",
   "metadata": {},
   "outputs": [
    {
     "name": "stderr",
     "output_type": "stream",
     "text": [
      "WARNING:absl:You are saving your model as an HDF5 file via `model.save()` or `keras.saving.save_model(model)`. This file format is considered legacy. We recommend using instead the native Keras format, e.g. `model.save('my_model.keras')` or `keras.saving.save_model(model, 'my_model.keras')`. \n"
     ]
    }
   ],
   "source": [
    "model.save(\"soil_classifier_vgg19.h5\")"
   ]
  },
  {
   "cell_type": "code",
   "execution_count": 14,
   "id": "4b80d38b",
   "metadata": {},
   "outputs": [
    {
     "name": "stdout",
     "output_type": "stream",
     "text": [
      "\u001b[1m7/7\u001b[0m \u001b[32m━━━━━━━━━━━━━━━━━━━━\u001b[0m\u001b[37m\u001b[0m \u001b[1m30s\u001b[0m 4s/step - accuracy: 0.9731 - loss: 0.2046\n",
      "Test Accuracy: 96.41%\n"
     ]
    }
   ],
   "source": [
    "# Evaluate model\n",
    "loss, accuracy = model.evaluate(X_test, y_test)\n",
    "print(f\"Test Accuracy: {accuracy * 100:.2f}%\")"
   ]
  },
  {
   "cell_type": "code",
   "execution_count": null,
   "id": "40b05bd5",
   "metadata": {},
   "outputs": [],
   "source": []
  }
 ],
 "metadata": {
  "kernelspec": {
   "display_name": "Python 3",
   "language": "python",
   "name": "python3"
  },
  "language_info": {
   "codemirror_mode": {
    "name": "ipython",
    "version": 3
   },
   "file_extension": ".py",
   "mimetype": "text/x-python",
   "name": "python",
   "nbconvert_exporter": "python",
   "pygments_lexer": "ipython3",
   "version": "3.12.4"
  }
 },
 "nbformat": 4,
 "nbformat_minor": 5
}
